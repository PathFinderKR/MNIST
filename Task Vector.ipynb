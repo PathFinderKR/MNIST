{
 "cells": [
  {
   "metadata": {},
   "cell_type": "markdown",
   "source": "## Importing Libraries",
   "id": "ed360dad9155c63e"
  },
  {
   "metadata": {
    "ExecuteTime": {
     "end_time": "2024-05-29T09:57:04.621250Z",
     "start_time": "2024-05-29T09:57:03.332726Z"
    }
   },
   "cell_type": "code",
   "source": [
    "from pathlib import Path\n",
    "import requests\n",
    "import pickle\n",
    "import gzip\n",
    "from matplotlib import pyplot as plt\n",
    "\n",
    "# PyTorch\n",
    "import torch\n",
    "import torch.nn as nn\n",
    "import torch.nn.functional as F\n",
    "from torch.utils.data import Dataset, DataLoader, random_split\n",
    "from torchvision import transforms"
   ],
   "id": "3aa310c0914d7871",
   "outputs": [],
   "execution_count": 1
  },
  {
   "metadata": {},
   "cell_type": "markdown",
   "source": "## Device",
   "id": "e263a4c1e4f53f19"
  },
  {
   "metadata": {
    "ExecuteTime": {
     "end_time": "2024-05-29T09:57:04.631776Z",
     "start_time": "2024-05-29T09:57:04.622018Z"
    }
   },
   "cell_type": "code",
   "source": [
    "# Device setup\n",
    "device = (\n",
    "    \"cuda:0\" if torch.cuda.is_available() else # Nvidia GPU\n",
    "    \"mps\" if torch.backends.mps.is_available() else # Apple Silicon GPU\n",
    "    \"cpu\"\n",
    ")\n",
    "print(f\"Device = {device}\")"
   ],
   "id": "7ece9fe2010a8b65",
   "outputs": [
    {
     "name": "stdout",
     "output_type": "stream",
     "text": [
      "Device = mps\n"
     ]
    }
   ],
   "execution_count": 2
  },
  {
   "metadata": {},
   "cell_type": "markdown",
   "source": "## Dataset",
   "id": "66fedbed62e55f3e"
  },
  {
   "metadata": {
    "ExecuteTime": {
     "end_time": "2024-05-29T09:57:04.633868Z",
     "start_time": "2024-05-29T09:57:04.632283Z"
    }
   },
   "cell_type": "code",
   "source": [
    "# Dataset path\n",
    "DATA_PATH = Path(\"data\")\n",
    "PATH = DATA_PATH / \"mnist\"\n",
    "PATH.mkdir(parents=True, exist_ok=True)"
   ],
   "id": "b81f46fd502a32e8",
   "outputs": [],
   "execution_count": 3
  },
  {
   "metadata": {
    "ExecuteTime": {
     "end_time": "2024-05-29T09:57:04.910818Z",
     "start_time": "2024-05-29T09:57:04.634977Z"
    }
   },
   "cell_type": "code",
   "source": [
    "# Dataset download\n",
    "URL = \"https://github.com/pytorch/tutorials/raw/main/_static/\"\n",
    "FILENAME = \"mnist.pkl.gz\"\n",
    "\n",
    "if not (PATH / FILENAME).exists():\n",
    "    content = requests.get(URL + FILENAME).content\n",
    "    (PATH / FILENAME).open(\"wb\").write(content)\n",
    "\n",
    "with gzip.open((PATH / FILENAME).as_posix(), \"rb\") as f:\n",
    "    ((x_train, y_train), (x_valid, y_valid), _) = pickle.load(f, encoding=\"latin-1\")"
   ],
   "id": "fc727edf7b3e4ae1",
   "outputs": [],
   "execution_count": 4
  },
  {
   "metadata": {
    "ExecuteTime": {
     "end_time": "2024-05-29T09:57:04.913568Z",
     "start_time": "2024-05-29T09:57:04.911406Z"
    }
   },
   "cell_type": "code",
   "source": [
    "# Custom Dataset\n",
    "class MNIST_Dataset(Dataset):\n",
    "    def __init__(self, x, y, transform=None):\n",
    "        self.x = x\n",
    "        self.y = y\n",
    "        self.transform = transform\n",
    "        \n",
    "    def __len__(self):\n",
    "        return len(self.x)\n",
    "    \n",
    "    def __getitem__(self, idx):\n",
    "        x = self.x[idx].reshape(1, 28, 28)\n",
    "        y = self.y[idx]\n",
    "        if self.transform:\n",
    "            x = self.transform(x)\n",
    "        return x, y\n",
    "    \n",
    "transfrom = transforms.Compose([\n",
    "    transforms.ToTensor(),\n",
    "    transforms.Normalize((0.1307,), (0.3081,))\n",
    "])"
   ],
   "id": "4c2acd59d282bd99",
   "outputs": [],
   "execution_count": 5
  },
  {
   "metadata": {
    "ExecuteTime": {
     "end_time": "2024-05-29T09:57:04.915484Z",
     "start_time": "2024-05-29T09:57:04.914047Z"
    }
   },
   "cell_type": "code",
   "source": [
    "# Full Dataset\n",
    "test_ds = MNIST_Dataset(x_valid, y_valid, transform=transfrom)\n",
    "test_dl = DataLoader(test_ds, batch_size=1000, shuffle=False)"
   ],
   "id": "54d73b5205f3a639",
   "outputs": [],
   "execution_count": 6
  },
  {
   "metadata": {
    "ExecuteTime": {
     "end_time": "2024-05-29T09:57:04.925595Z",
     "start_time": "2024-05-29T09:57:04.915987Z"
    }
   },
   "cell_type": "code",
   "source": [
    "# 0 and 1 Dataset\n",
    "x_train_01 = x_train[y_train <= 1]\n",
    "y_train_01 = y_train[y_train <= 1]\n",
    "x_valid_01 = x_valid[y_valid <= 1]\n",
    "y_valid_01 = y_valid[y_valid <= 1]\n",
    "\n",
    "test_ds_01 = MNIST_Dataset(x_valid_01, y_valid_01, transform=transfrom)\n",
    "test_dl_01 = DataLoader(test_ds_01, batch_size=1000, shuffle=False)"
   ],
   "id": "97e4559a46daa4df",
   "outputs": [],
   "execution_count": 7
  },
  {
   "metadata": {},
   "cell_type": "markdown",
   "source": "## Model",
   "id": "fbe355ea1817f54f"
  },
  {
   "metadata": {
    "ExecuteTime": {
     "end_time": "2024-05-29T09:57:04.928035Z",
     "start_time": "2024-05-29T09:57:04.926113Z"
    }
   },
   "cell_type": "code",
   "source": [
    "class MNIST_CNN(nn.Module):\n",
    "    def __init__(self):\n",
    "        super().__init__()\n",
    "        self.conv1 = nn.Conv2d(1, 16, kernel_size=3, stride=2, padding=1)\n",
    "        self.conv2 = nn.Conv2d(16, 16, kernel_size=3, stride=2, padding=1)\n",
    "        self.conv3 = nn.Conv2d(16, 10, kernel_size=3, stride=2, padding=1)\n",
    "\n",
    "    def forward(self, xb):\n",
    "        xb = xb.view(-1, 1, 28, 28)\n",
    "        xb = F.relu(self.conv1(xb))\n",
    "        xb = F.relu(self.conv2(xb))\n",
    "        xb = F.relu(self.conv3(xb))\n",
    "        xb = F.avg_pool2d(xb, 4)\n",
    "        return xb.view(-1, xb.size(1))"
   ],
   "id": "c1b2e9cbdab531e5",
   "outputs": [],
   "execution_count": 8
  },
  {
   "cell_type": "code",
   "id": "initial_id",
   "metadata": {
    "collapsed": true,
    "ExecuteTime": {
     "end_time": "2024-05-29T09:57:04.946227Z",
     "start_time": "2024-05-29T09:57:04.928498Z"
    }
   },
   "source": [
    "# Load model\n",
    "base_model = MNIST_CNN().to(device)\n",
    "base_model.load_state_dict(torch.load(\"mnist_cnn.pth\"))\n",
    "model_01 = MNIST_CNN().to(device)\n",
    "model_01.load_state_dict(torch.load(\"mnist_cnn_01.pth\"))"
   ],
   "outputs": [
    {
     "data": {
      "text/plain": [
       "<All keys matched successfully>"
      ]
     },
     "execution_count": 9,
     "metadata": {},
     "output_type": "execute_result"
    }
   ],
   "execution_count": 9
  },
  {
   "metadata": {},
   "cell_type": "markdown",
   "source": "## Evaluation",
   "id": "1c16cafdfc0c0c0c"
  },
  {
   "metadata": {
    "ExecuteTime": {
     "end_time": "2024-05-29T09:57:04.949122Z",
     "start_time": "2024-05-29T09:57:04.947661Z"
    }
   },
   "cell_type": "code",
   "source": [
    "correct = [0] * 10\n",
    "total = [0] * 10"
   ],
   "id": "dbb2d89459b1a72b",
   "outputs": [],
   "execution_count": 10
  },
  {
   "metadata": {
    "ExecuteTime": {
     "end_time": "2024-05-29T09:57:04.951371Z",
     "start_time": "2024-05-29T09:57:04.949544Z"
    }
   },
   "cell_type": "code",
   "source": [
    "# Accuracy on each label\n",
    "def evaluate_labels(model, test_dl):\n",
    "    model.eval()\n",
    "    with torch.no_grad():\n",
    "        for xb, yb in test_dl:\n",
    "            xb, yb = xb.to(device), yb.to(device)\n",
    "            output = model(xb)\n",
    "            _, predicted = torch.max(output, 1)\n",
    "            for i in range(len(yb)):\n",
    "                label = yb[i]\n",
    "                total[label] += 1\n",
    "                if predicted[i] == label:\n",
    "                    correct[label] += 1\n",
    "    return [correct[i] / total[i] for i in range(10)]"
   ],
   "id": "fa02b990afdaf4f7",
   "outputs": [],
   "execution_count": 11
  },
  {
   "metadata": {
    "ExecuteTime": {
     "end_time": "2024-05-29T09:57:17.632975Z",
     "start_time": "2024-05-29T09:57:04.951818Z"
    }
   },
   "cell_type": "code",
   "source": [
    "for i, acc in enumerate(evaluate_labels(base_model, test_dl)):\n",
    "    print(f\"Label {i}, Accuracy: {acc:.4f}\")\n",
    "    \n",
    "plt.bar(range(10), evaluate_labels(base_model, test_dl))\n",
    "plt.xlabel(\"label\")\n",
    "plt.ylabel(\"accuracy\")\n",
    "plt.show()"
   ],
   "id": "9f9e12e3097d9dbf",
   "outputs": [
    {
     "name": "stdout",
     "output_type": "stream",
     "text": [
      "Label 0, Accuracy: 0.9556\n",
      "Label 1, Accuracy: 0.9859\n",
      "Label 2, Accuracy: 0.9182\n",
      "Label 3, Accuracy: 0.9670\n",
      "Label 4, Accuracy: 0.9776\n",
      "Label 5, Accuracy: 0.9049\n",
      "Label 6, Accuracy: 0.9690\n",
      "Label 7, Accuracy: 0.8862\n",
      "Label 8, Accuracy: 0.9633\n",
      "Label 9, Accuracy: 0.8158\n"
     ]
    },
    {
     "data": {
      "text/plain": [
       "<Figure size 640x480 with 1 Axes>"
      ],
      "image/png": "[encoded data removed]"
     },
     "metadata": {},
     "output_type": "display_data"
    }
   ],
   "execution_count": 12
  },
  {
   "metadata": {},
   "cell_type": "markdown",
   "source": "## Arithmetic Operations",
   "id": "b33e4a8e8faa4a46"
  },
  {
   "metadata": {
    "ExecuteTime": {
     "end_time": "2024-05-29T09:57:17.646184Z",
     "start_time": "2024-05-29T09:57:17.633739Z"
    }
   },
   "cell_type": "code",
   "source": [
    "# Subtract model weights\n",
    "def subtract(model1, model2):\n",
    "    for p1, p2 in zip(model1.parameters(), model2.parameters()):\n",
    "        p1.data -= p2.data\n",
    "\n",
    "subtract(base_model, model_01)        "
   ],
   "id": "d8aa2c011629edad",
   "outputs": [],
   "execution_count": 13
  },
  {
   "metadata": {},
   "cell_type": "markdown",
   "source": "## Re-Evaluation",
   "id": "91c7621932e5f87f"
  },
  {
   "metadata": {
    "ExecuteTime": {
     "end_time": "2024-05-29T09:57:29.458247Z",
     "start_time": "2024-05-29T09:57:17.646719Z"
    }
   },
   "cell_type": "code",
   "source": [
    "## Re-Evaluation&Inference\n",
    "for i, acc in enumerate(evaluate_labels(base_model, test_dl)):\n",
    "    print(f\"Label {i}, Accuracy: {acc:.4f}\")\n",
    "\n",
    "plt.bar(range(10), evaluate_labels(base_model, test_dl))\n",
    "plt.xlabel(\"label\")\n",
    "plt.ylabel(\"accuracy\")\n",
    "plt.show()"
   ],
   "id": "2c69619852af9860",
   "outputs": [
    {
     "name": "stdout",
     "output_type": "stream",
     "text": [
      "Label 0, Accuracy: 0.8066\n",
      "Label 1, Accuracy: 0.9627\n",
      "Label 2, Accuracy: 0.9266\n",
      "Label 3, Accuracy: 0.9498\n",
      "Label 4, Accuracy: 0.9298\n",
      "Label 5, Accuracy: 0.8226\n",
      "Label 6, Accuracy: 0.9710\n",
      "Label 7, Accuracy: 0.7523\n",
      "Label 8, Accuracy: 0.9627\n",
      "Label 9, Accuracy: 0.8665\n"
     ]
    },
    {
     "data": {
      "text/plain": [
       "<Figure size 640x480 with 1 Axes>"
      ],
      "image/png": "[encoded data removed]"
     },
     "metadata": {},
     "output_type": "display_data"
    }
   ],
   "execution_count": 14
  }
 ],
 "metadata": {
  "kernelspec": {
   "display_name": "Python 3",
   "language": "python",
   "name": "python3"
  },
  "language_info": {
   "codemirror_mode": {
    "name": "ipython",
    "version": 2
   },
   "file_extension": ".py",
   "mimetype": "text/x-python",
   "name": "python",
   "nbconvert_exporter": "python",
   "pygments_lexer": "ipython2",
   "version": "2.7.6"
  }
 },
 "nbformat": 4,
 "nbformat_minor": 5
}
