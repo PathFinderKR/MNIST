{
 "cells": [
  {
   "metadata": {},
   "cell_type": "markdown",
   "source": "## Importing Libraries",
   "id": "e77cf068f7dfba55"
  },
  {
   "metadata": {
    "ExecuteTime": {
     "end_time": "2024-05-29T12:06:39.395430Z",
     "start_time": "2024-05-29T12:06:37.782081Z"
    }
   },
   "cell_type": "code",
   "source": [
    "from pathlib import Path\n",
    "import requests\n",
    "import pickle\n",
    "import gzip\n",
    "from matplotlib import pyplot as plt\n",
    "import tqdm\n",
    "\n",
    "# PyTorch\n",
    "import torch\n",
    "import torch.nn as nn\n",
    "import torch.optim as optim\n",
    "import torch.nn.functional as F\n",
    "from torch.utils.data import Dataset, DataLoader, random_split\n",
    "from torchvision import transforms"
   ],
   "id": "5e4be66aab9793e3",
   "outputs": [],
   "execution_count": 1
  },
  {
   "metadata": {},
   "cell_type": "markdown",
   "source": "## Device",
   "id": "4e1fbcca264f86ed"
  },
  {
   "metadata": {
    "ExecuteTime": {
     "end_time": "2024-05-29T12:06:39.499435Z",
     "start_time": "2024-05-29T12:06:39.396542Z"
    }
   },
   "cell_type": "code",
   "source": [
    "# Device setup\n",
    "device = (\n",
    "    \"cuda:0\" if torch.cuda.is_available() else # Nvidia GPU\n",
    "    \"mps\" if torch.backends.mps.is_available() else # Apple Silicon GPU\n",
    "    \"cpu\"\n",
    ")\n",
    "print(f\"Device = {device}\")"
   ],
   "id": "30f91bbc303f4732",
   "outputs": [
    {
     "name": "stdout",
     "output_type": "stream",
     "text": [
      "Device = cuda:0\n"
     ]
    }
   ],
   "execution_count": 2
  },
  {
   "metadata": {},
   "cell_type": "markdown",
   "source": "## Hyperparameters",
   "id": "69d5d7c751d5ba7e"
  },
  {
   "metadata": {
    "ExecuteTime": {
     "end_time": "2024-05-29T12:06:39.506423Z",
     "start_time": "2024-05-29T12:06:39.500396Z"
    }
   },
   "cell_type": "code",
   "source": [
    "learning_rate = 0.1\n",
    "batch_size = 64\n",
    "val_batch_size = 1000\n",
    "epochs = 5\n",
    "validation_size = 0.1"
   ],
   "id": "fc0767207a026e22",
   "outputs": [],
   "execution_count": 3
  },
  {
   "metadata": {},
   "cell_type": "markdown",
   "source": "## Dataset",
   "id": "d6916bc9cf184edd"
  },
  {
   "metadata": {
    "ExecuteTime": {
     "end_time": "2024-05-29T12:06:39.514905Z",
     "start_time": "2024-05-29T12:06:39.507897Z"
    }
   },
   "cell_type": "code",
   "source": [
    "# Dataset path\n",
    "DATA_PATH = Path(\"data\")\n",
    "PATH = DATA_PATH / \"mnist\"\n",
    "PATH.mkdir(parents=True, exist_ok=True)"
   ],
   "id": "74eeffac883e2dba",
   "outputs": [],
   "execution_count": 4
  },
  {
   "metadata": {
    "ExecuteTime": {
     "end_time": "2024-05-29T12:06:40.315927Z",
     "start_time": "2024-05-29T12:06:39.515940Z"
    }
   },
   "cell_type": "code",
   "source": [
    "# Dataset download\n",
    "URL = \"https://github.com/pytorch/tutorials/raw/main/_static/\"\n",
    "FILENAME = \"mnist.pkl.gz\"\n",
    "\n",
    "if not (PATH / FILENAME).exists():\n",
    "        content = requests.get(URL + FILENAME).content\n",
    "        (PATH / FILENAME).open(\"wb\").write(content)\n",
    "        \n",
    "with gzip.open((PATH / FILENAME).as_posix(), \"rb\") as f:\n",
    "        ((x_train, y_train), (x_valid, y_valid), _) = pickle.load(f, encoding=\"latin-1\")        "
   ],
   "id": "f98925a84ff9a274",
   "outputs": [],
   "execution_count": 5
  },
  {
   "metadata": {
    "ExecuteTime": {
     "end_time": "2024-05-29T12:06:40.319548Z",
     "start_time": "2024-05-29T12:06:40.316875Z"
    }
   },
   "cell_type": "code",
   "source": [
    "# Dataset shape\n",
    "print(x_train.shape)\n",
    "print(y_train.shape)\n",
    "print(x_valid.shape)\n",
    "print(y_valid.shape)"
   ],
   "id": "91057bdc2270f29c",
   "outputs": [
    {
     "name": "stdout",
     "output_type": "stream",
     "text": [
      "(50000, 784)\n",
      "(50000,)\n",
      "(10000, 784)\n",
      "(10000,)\n"
     ]
    }
   ],
   "execution_count": 6
  },
  {
   "metadata": {
    "ExecuteTime": {
     "end_time": "2024-05-29T12:06:40.382843Z",
     "start_time": "2024-05-29T12:06:40.320390Z"
    }
   },
   "cell_type": "code",
   "source": [
    "# Dataset sample\n",
    "plt.imshow(x_train[0].reshape((28, 28)), cmap=\"gray\")\n",
    "print(y_train[0])"
   ],
   "id": "7a77d830af912214",
   "outputs": [
    {
     "name": "stdout",
     "output_type": "stream",
     "text": [
      "5\n"
     ]
    },
    {
     "data": {
      "text/plain": [
       "<Figure size 640x480 with 1 Axes>"
      ],
      "image/png": "[encoded data removed]"
     },
     "metadata": {},
     "output_type": "display_data"
    }
   ],
   "execution_count": 7
  },
  {
   "metadata": {
    "ExecuteTime": {
     "end_time": "2024-05-29T12:06:40.387055Z",
     "start_time": "2024-05-29T12:06:40.383754Z"
    }
   },
   "cell_type": "code",
   "source": [
    "# Custom Dataset\n",
    "class MNIST_Dataset(Dataset):\n",
    "    def __init__(self, x, y, transform=None):\n",
    "        self.x = x\n",
    "        self.y = y\n",
    "        self.transform = transform\n",
    "        \n",
    "    def __len__(self):\n",
    "        return len(self.x)\n",
    "    \n",
    "    def __getitem__(self, idx):\n",
    "        x = self.x[idx].reshape(1, 28, 28)\n",
    "        y = self.y[idx]\n",
    "        if self.transform:\n",
    "            x = self.transform(x)\n",
    "        return x, y\n",
    "    \n",
    "transfrom = transforms.Compose([\n",
    "    transforms.ToTensor(),\n",
    "    transforms.Normalize((0.1307,), (0.3081,))\n",
    "])"
   ],
   "id": "aabf36abc73958a6",
   "outputs": [],
   "execution_count": 8
  },
  {
   "metadata": {
    "ExecuteTime": {
     "end_time": "2024-05-29T12:06:40.396674Z",
     "start_time": "2024-05-29T12:06:40.387971Z"
    }
   },
   "cell_type": "code",
   "source": [
    "# Full Dataset\n",
    "train_ds = MNIST_Dataset(x_train, y_train, transform=transfrom)\n",
    "test_ds = MNIST_Dataset(x_valid, y_valid, transform=transfrom)\n",
    "\n",
    "train_size = int(len(train_ds) * (1 - validation_size))\n",
    "valid_size = len(train_ds) - train_size\n",
    "train_ds, valid_ds = random_split(train_ds, [train_size, valid_size])\n",
    "\n",
    "train_dl = DataLoader(train_ds, batch_size=batch_size, shuffle=True)\n",
    "valid_dl = DataLoader(valid_ds, batch_size=val_batch_size, shuffle=False)\n",
    "test_dl = DataLoader(test_ds, batch_size=val_batch_size, shuffle=False)"
   ],
   "id": "bb2351f5e736aba3",
   "outputs": [],
   "execution_count": 9
  },
  {
   "metadata": {
    "ExecuteTime": {
     "end_time": "2024-05-29T12:06:40.411017Z",
     "start_time": "2024-05-29T12:06:40.398520Z"
    }
   },
   "cell_type": "code",
   "source": [
    "# 2&3 Dataset\n",
    "x_train_23 = x_train[(y_train == 2) | (y_train == 3)]\n",
    "y_train_23 = y_train[(y_train == 2) | (y_train == 3)]\n",
    "x_valid_23 = x_valid[(y_valid == 2) | (y_valid == 3)]\n",
    "y_valid_23 = y_valid[(y_valid == 2) | (y_valid == 3)]\n",
    "\n",
    "print(x_train_23.shape)\n",
    "print(y_train_23.shape)\n",
    "print(x_valid_23.shape)\n",
    "print(y_valid_23.shape)"
   ],
   "id": "9ff378b5ec154dcb",
   "outputs": [
    {
     "name": "stdout",
     "output_type": "stream",
     "text": [
      "(10069, 784)\n",
      "(10069,)\n",
      "(2020, 784)\n",
      "(2020,)\n"
     ]
    }
   ],
   "execution_count": 10
  },
  {
   "metadata": {
    "ExecuteTime": {
     "end_time": "2024-05-29T12:06:40.415087Z",
     "start_time": "2024-05-29T12:06:40.412011Z"
    }
   },
   "cell_type": "code",
   "source": [
    "train_ds_23 = MNIST_Dataset(x_train_23, y_train_23, transform=transfrom)\n",
    "test_ds_23 = MNIST_Dataset(x_valid_23, y_valid_23, transform=transfrom)\n",
    "\n",
    "train_size_23 = int(len(train_ds_23) * (1 - validation_size))\n",
    "valid_size_23 = len(train_ds_23) - train_size_23\n",
    "train_ds_23, valid_ds_23 = random_split(train_ds_23, [train_size_23, valid_size_23])\n",
    "\n",
    "train_dl_23 = DataLoader(train_ds_23, batch_size=batch_size, shuffle=True)\n",
    "valid_dl_23 = DataLoader(valid_ds_23, batch_size=val_batch_size, shuffle=False)\n",
    "test_dl_23 = DataLoader(test_ds_23, batch_size=val_batch_size, shuffle=False)"
   ],
   "id": "27ee076e625de9c1",
   "outputs": [],
   "execution_count": 11
  },
  {
   "metadata": {
    "ExecuteTime": {
     "end_time": "2024-05-29T12:06:40.428375Z",
     "start_time": "2024-05-29T12:06:40.416047Z"
    }
   },
   "cell_type": "code",
   "source": [
    "# DataLoader sample\n",
    "xb, yb = next(iter(train_dl_23))\n",
    "print(xb.shape, yb.shape)"
   ],
   "id": "380da90620fb39eb",
   "outputs": [
    {
     "name": "stdout",
     "output_type": "stream",
     "text": [
      "torch.Size([64, 28, 1, 28]) torch.Size([64])\n"
     ]
    }
   ],
   "execution_count": 12
  },
  {
   "metadata": {},
   "cell_type": "markdown",
   "source": "## Model",
   "id": "e1ee76f310929a26"
  },
  {
   "metadata": {
    "ExecuteTime": {
     "end_time": "2024-05-29T12:06:40.536636Z",
     "start_time": "2024-05-29T12:06:40.429415Z"
    }
   },
   "cell_type": "code",
   "source": [
    "class MNIST_CNN(nn.Module):\n",
    "    def __init__(self):\n",
    "        super().__init__()\n",
    "        self.conv1 = nn.Conv2d(1, 16, kernel_size=3, stride=2, padding=1)\n",
    "        self.conv2 = nn.Conv2d(16, 16, kernel_size=3, stride=2, padding=1)\n",
    "        self.conv3 = nn.Conv2d(16, 10, kernel_size=3, stride=2, padding=1)\n",
    "\n",
    "    def forward(self, xb):\n",
    "        xb = xb.view(-1, 1, 28, 28)\n",
    "        xb = F.relu(self.conv1(xb))\n",
    "        xb = F.relu(self.conv2(xb))\n",
    "        xb = F.relu(self.conv3(xb))\n",
    "        xb = F.avg_pool2d(xb, 4)\n",
    "        return xb.view(-1, xb.size(1))\n",
    "    \n",
    "model_23 = MNIST_CNN().to(device)"
   ],
   "id": "918a030124f0440b",
   "outputs": [],
   "execution_count": 13
  },
  {
   "metadata": {
    "ExecuteTime": {
     "end_time": "2024-05-29T12:06:40.540342Z",
     "start_time": "2024-05-29T12:06:40.537712Z"
    }
   },
   "cell_type": "code",
   "source": [
    "# Model summary\n",
    "print(model_23)"
   ],
   "id": "6f84842e8a308026",
   "outputs": [
    {
     "name": "stdout",
     "output_type": "stream",
     "text": [
      "MNIST_CNN(\n",
      "  (conv1): Conv2d(1, 16, kernel_size=(3, 3), stride=(2, 2), padding=(1, 1))\n",
      "  (conv2): Conv2d(16, 16, kernel_size=(3, 3), stride=(2, 2), padding=(1, 1))\n",
      "  (conv3): Conv2d(16, 10, kernel_size=(3, 3), stride=(2, 2), padding=(1, 1))\n",
      ")\n"
     ]
    }
   ],
   "execution_count": 14
  },
  {
   "metadata": {
    "ExecuteTime": {
     "end_time": "2024-05-29T12:06:40.553947Z",
     "start_time": "2024-05-29T12:06:40.541268Z"
    }
   },
   "cell_type": "code",
   "source": [
    "optimizer = optim.SGD(model_23.parameters(), lr=learning_rate)\n",
    "criterion = nn.CrossEntropyLoss()"
   ],
   "id": "73c8febebca27ef4",
   "outputs": [],
   "execution_count": 15
  },
  {
   "metadata": {},
   "cell_type": "markdown",
   "source": "## Training",
   "id": "7744054011936c31"
  },
  {
   "metadata": {
    "ExecuteTime": {
     "end_time": "2024-05-29T12:06:40.566650Z",
     "start_time": "2024-05-29T12:06:40.554890Z"
    }
   },
   "cell_type": "code",
   "source": [
    "# Losses\n",
    "train_losses = []\n",
    "valid_losses = []"
   ],
   "id": "aac083e77cbb9e6b",
   "outputs": [],
   "execution_count": 16
  },
  {
   "metadata": {
    "ExecuteTime": {
     "end_time": "2024-05-29T12:06:40.578031Z",
     "start_time": "2024-05-29T12:06:40.567812Z"
    }
   },
   "cell_type": "code",
   "source": [
    "def train(model, train_dl, valid_dl, optimizer, criterion, epochs):\n",
    "    for epoch in range(epochs):\n",
    "        model.train()\n",
    "        with tqdm.tqdm(train_dl, unit=\"batch\") as tepoch:\n",
    "            for xb, yb in tepoch:\n",
    "                xb, yb = xb.to(device), yb.to(device)\n",
    "                output = model(xb)\n",
    "                loss = criterion(output, yb)\n",
    "                optimizer.zero_grad()\n",
    "                loss.backward()\n",
    "                optimizer.step()\n",
    "                train_losses.append(loss.item())\n",
    "                tepoch.set_postfix(train_loss=loss.item())\n",
    "        \n",
    "        model.eval()\n",
    "        with torch.no_grad():\n",
    "            for xb, yb in valid_dl:\n",
    "                xb, yb = xb.to(device), yb.to(device)\n",
    "                output = model(xb)\n",
    "                loss = criterion(output, yb)\n",
    "                valid_losses.append(loss.item())\n",
    "        \n",
    "        print(f\"Epoch {epoch + 1}, Train Loss: {sum(train_losses) / len(train_losses):.4f}, Validation Loss: {sum(valid_losses) / len(valid_losses):.4f}\")"
   ],
   "id": "420965f27920337f",
   "outputs": [],
   "execution_count": 17
  },
  {
   "metadata": {
    "ExecuteTime": {
     "end_time": "2024-05-29T12:06:43.418082Z",
     "start_time": "2024-05-29T12:06:40.579033Z"
    }
   },
   "cell_type": "code",
   "source": "train(model_23, train_dl_23, valid_dl_23, optimizer, criterion, epochs)",
   "id": "a11efbf89f98ad13",
   "outputs": [
    {
     "name": "stderr",
     "output_type": "stream",
     "text": [
      "100%|██████████| 142/142 [00:00<00:00, 214.74batch/s, train_loss=0.327]\n"
     ]
    },
    {
     "name": "stdout",
     "output_type": "stream",
     "text": [
      "Epoch 1, Train Loss: 0.6308, Validation Loss: 0.4254\n"
     ]
    },
    {
     "name": "stderr",
     "output_type": "stream",
     "text": [
      "100%|██████████| 142/142 [00:00<00:00, 284.73batch/s, train_loss=0.483]\n"
     ]
    },
    {
     "name": "stdout",
     "output_type": "stream",
     "text": [
      "Epoch 2, Train Loss: 0.5325, Validation Loss: 0.4024\n"
     ]
    },
    {
     "name": "stderr",
     "output_type": "stream",
     "text": [
      "100%|██████████| 142/142 [00:00<00:00, 282.04batch/s, train_loss=0.533]\n"
     ]
    },
    {
     "name": "stdout",
     "output_type": "stream",
     "text": [
      "Epoch 3, Train Loss: 0.4796, Validation Loss: 0.3850\n"
     ]
    },
    {
     "name": "stderr",
     "output_type": "stream",
     "text": [
      "100%|██████████| 142/142 [00:00<00:00, 284.42batch/s, train_loss=0.34] \n"
     ]
    },
    {
     "name": "stdout",
     "output_type": "stream",
     "text": [
      "Epoch 4, Train Loss: 0.4419, Validation Loss: 0.3519\n"
     ]
    },
    {
     "name": "stderr",
     "output_type": "stream",
     "text": [
      "100%|██████████| 142/142 [00:00<00:00, 283.41batch/s, train_loss=0.231]\n"
     ]
    },
    {
     "name": "stdout",
     "output_type": "stream",
     "text": [
      "Epoch 5, Train Loss: 0.4105, Validation Loss: 0.3339\n"
     ]
    }
   ],
   "execution_count": 18
  },
  {
   "metadata": {
    "ExecuteTime": {
     "end_time": "2024-05-29T12:06:43.423719Z",
     "start_time": "2024-05-29T12:06:43.419007Z"
    }
   },
   "cell_type": "code",
   "source": [
    "# Save model\n",
    "torch.save(model_23.state_dict(), \"mnist_cnn_23.pth\")"
   ],
   "id": "16ea1cfb35350a21",
   "outputs": [],
   "execution_count": 19
  },
  {
   "metadata": {
    "ExecuteTime": {
     "end_time": "2024-05-29T12:06:43.480372Z",
     "start_time": "2024-05-29T12:06:43.424789Z"
    }
   },
   "cell_type": "code",
   "source": [
    "# Plot training losses\n",
    "plt.plot(train_losses)\n",
    "plt.xlabel(\"steps\")\n",
    "plt.ylabel(\"loss\")\n",
    "plt.show()"
   ],
   "id": "98c14be04b98d3d9",
   "outputs": [
    {
     "data": {
      "text/plain": [
       "<Figure size 640x480 with 1 Axes>"
      ],
      "image/png": "[encoded data removed]"
     },
     "metadata": {},
     "output_type": "display_data"
    }
   ],
   "execution_count": 20
  },
  {
   "metadata": {
    "ExecuteTime": {
     "end_time": "2024-05-29T12:06:43.525093Z",
     "start_time": "2024-05-29T12:06:43.481299Z"
    }
   },
   "cell_type": "code",
   "source": [
    "# Plot validation losses\n",
    "plt.plot(valid_losses)\n",
    "plt.xlabel(\"steps\")\n",
    "plt.ylabel(\"loss\")\n",
    "plt.show()"
   ],
   "id": "b1b53a560d4b8a0",
   "outputs": [
    {
     "data": {
      "text/plain": [
       "<Figure size 640x480 with 1 Axes>"
      ],
      "image/png": "[encoded data removed]"
     },
     "metadata": {},
     "output_type": "display_data"
    }
   ],
   "execution_count": 21
  },
  {
   "metadata": {},
   "cell_type": "markdown",
   "source": "## Evaluation",
   "id": "c3901acf3c5e2062"
  },
  {
   "metadata": {
    "ExecuteTime": {
     "end_time": "2024-05-29T12:06:43.528712Z",
     "start_time": "2024-05-29T12:06:43.525988Z"
    }
   },
   "cell_type": "code",
   "source": [
    "def evaluate(model, test_dl):\n",
    "    model.eval()\n",
    "    correct = 0\n",
    "    total = 0\n",
    "    with torch.no_grad():\n",
    "        for xb, yb in test_dl:\n",
    "            xb, yb = xb.to(device), yb.to(device)\n",
    "            output = model(xb)\n",
    "            _, predicted = torch.max(output, 1)\n",
    "            total += yb.size(0)\n",
    "            correct += (predicted == yb).sum().item()\n",
    "    return correct / total"
   ],
   "id": "fa362d528c20fa6f",
   "outputs": [],
   "execution_count": 22
  },
  {
   "metadata": {
    "ExecuteTime": {
     "end_time": "2024-05-29T12:06:43.612760Z",
     "start_time": "2024-05-29T12:06:43.529585Z"
    }
   },
   "cell_type": "code",
   "source": "print(f\"Accuracy: {evaluate(model_23, test_dl_23):.4f}\")",
   "id": "c48a2739ca3c5596",
   "outputs": [
    {
     "name": "stdout",
     "output_type": "stream",
     "text": [
      "Accuracy: 0.9272\n"
     ]
    }
   ],
   "execution_count": 23
  },
  {
   "metadata": {
    "ExecuteTime": {
     "end_time": "2024-05-29T12:06:43.616670Z",
     "start_time": "2024-05-29T12:06:43.613703Z"
    }
   },
   "cell_type": "code",
   "source": [
    "# Accuracy on each label\n",
    "def evaluate_labels(model, test_dl):\n",
    "    model.eval()\n",
    "    correct = [0] * 10\n",
    "    total = [0] * 10\n",
    "    with torch.no_grad():\n",
    "        for xb, yb in test_dl:\n",
    "            xb, yb = xb.to(device), yb.to(device)\n",
    "            output = model(xb)\n",
    "            _, predicted = torch.max(output, 1)\n",
    "            for i in range(len(yb)):\n",
    "                label = yb[i]\n",
    "                total[label] += 1\n",
    "                if predicted[i] == label:\n",
    "                    correct[label] += 1\n",
    "    return [correct[i] / total[i] for i in range(10)]"
   ],
   "id": "496311c638289ae0",
   "outputs": [],
   "execution_count": 24
  },
  {
   "metadata": {
    "ExecuteTime": {
     "end_time": "2024-05-29T12:06:46.717319Z",
     "start_time": "2024-05-29T12:06:43.617423Z"
    }
   },
   "cell_type": "code",
   "source": [
    "for i, acc in enumerate(evaluate_labels(model_23, test_dl)):\n",
    "    print(f\"Label {i}, Accuracy: {acc:.4f}\")\n",
    "    \n",
    "plt.bar(range(10), evaluate_labels(model_23, test_dl))\n",
    "plt.xlabel(\"label\")\n",
    "plt.ylabel(\"accuracy\")\n",
    "plt.show()"
   ],
   "id": "e746c1bdbb3ed36d",
   "outputs": [
    {
     "name": "stdout",
     "output_type": "stream",
     "text": [
      "Label 0, Accuracy: 0.0000\n",
      "Label 1, Accuracy: 0.0000\n",
      "Label 2, Accuracy: 0.9434\n",
      "Label 3, Accuracy: 0.9117\n",
      "Label 4, Accuracy: 0.0000\n",
      "Label 5, Accuracy: 0.0000\n",
      "Label 6, Accuracy: 0.0000\n",
      "Label 7, Accuracy: 0.0000\n",
      "Label 8, Accuracy: 0.0000\n",
      "Label 9, Accuracy: 0.0000\n"
     ]
    },
    {
     "data": {
      "text/plain": [
       "<Figure size 640x480 with 1 Axes>"
      ],
      "image/png": "[encoded data removed]"
     },
     "metadata": {},
     "output_type": "display_data"
    }
   ],
   "execution_count": 25
  }
 ],
 "metadata": {
  "kernelspec": {
   "display_name": "Python 3",
   "language": "python",
   "name": "python3"
  },
  "language_info": {
   "codemirror_mode": {
    "name": "ipython",
    "version": 2
   },
   "file_extension": ".py",
   "mimetype": "text/x-python",
   "name": "python",
   "nbconvert_exporter": "python",
   "pygments_lexer": "ipython2",
   "version": "2.7.6"
  }
 },
 "nbformat": 4,
 "nbformat_minor": 5
}
